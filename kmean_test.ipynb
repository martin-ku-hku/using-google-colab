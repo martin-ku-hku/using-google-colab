{
  "nbformat": 4,
  "nbformat_minor": 0,
  "metadata": {
    "colab": {
      "name": "kmean_test.ipynb",
      "provenance": [],
      "collapsed_sections": []
    },
    "kernelspec": {
      "name": "python3",
      "display_name": "Python 3"
    },
    "language_info": {
      "name": "python"
    }
  },
  "cells": [
    {
      "cell_type": "code",
      "metadata": {
        "id": "9ln5XapTUruw"
      },
      "source": [
        "from sklearn.cluster import KMeans\n",
        "import numpy as np\n",
        "import matplotlib as mpl\n",
        "import matplotlib.pyplot as plt\n",
        "import matplotlib.cm as cm\n",
        "import pandas as pd\n",
        "%matplotlib inline"
      ],
      "execution_count": 1,
      "outputs": []
    },
    {
      "cell_type": "code",
      "metadata": {
        "id": "dpFtfFedcFfm"
      },
      "source": [
        "def clustering(data, k): \n",
        "  km = KMeans(n_clusters=k, init='random',n_init=10, max_iter=300, tol=1e-04, random_state=0) # Create a model\n",
        "  y_km = km.fit_predict(data) # Fit the model\n",
        "  return km, y_km # return the trained clustering model and the clustering indices"
      ],
      "execution_count": 2,
      "outputs": []
    },
    {
      "cell_type": "code",
      "metadata": {
        "colab": {
          "base_uri": "https://localhost:8080/"
        },
        "id": "paspS3YRdGQ2",
        "outputId": "befd51f5-07d0-4642-9713-b9c45993c36f"
      },
      "source": [
        "!ls"
      ],
      "execution_count": 3,
      "outputs": [
        {
          "output_type": "stream",
          "text": [
            "data.csv  sample_data\n"
          ],
          "name": "stdout"
        }
      ]
    },
    {
      "cell_type": "code",
      "metadata": {
        "id": "HXqhRYVQnTmT"
      },
      "source": [
        "df = pd.read_csv('data.csv')\n",
        "data = df['value'].to_numpy()\n",
        "data = np.reshape(data, (-1, 1)) "
      ],
      "execution_count": 4,
      "outputs": []
    },
    {
      "cell_type": "code",
      "metadata": {
        "colab": {
          "base_uri": "https://localhost:8080/"
        },
        "id": "lJAl9xq2nmFc",
        "outputId": "78b03856-86e4-458d-9724-36e72831a1b1"
      },
      "source": [
        "k = 3 # change the number of groups here\n",
        "km, y_km = clustering(data=data, k=k)\n",
        "print(f\"Clustering results: {km.labels_}\")\n",
        "print(f\"Centroids: {km.cluster_centers_}\".replace('\\n', ''))"
      ],
      "execution_count": 5,
      "outputs": [
        {
          "output_type": "stream",
          "text": [
            "Clustering results: [0 0 0 0 0 0 1 1 1 1 1 1 2 2 2 2 2]\n",
            "Centroids: [[ 4.5       ] [17.16666667] [28.2       ]]\n"
          ],
          "name": "stdout"
        }
      ]
    },
    {
      "cell_type": "code",
      "metadata": {
        "colab": {
          "base_uri": "https://localhost:8080/",
          "height": 265
        },
        "id": "_kHHNGk-oNrQ",
        "outputId": "f2478ddc-d1a7-4ab2-a0e0-5edb517f7f73"
      },
      "source": [
        "colors = cm.rainbow(np.linspace(0, 1, k))\n",
        "for i in range(k):\n",
        "    plt.scatter(data[y_km == i, 0], np.zeros_like(data[y_km == i, 0]),s=50, c=colors[i].reshape((1, -1)),marker='s', edgecolor='black',label=f'cluster {i+1}')\n",
        "plt.show()"
      ],
      "execution_count": 6,
      "outputs": [
        {
          "output_type": "display_data",
          "data": {
            "image/png": "[encoded data removed]",
            "text/plain": [
              "<Figure size 432x288 with 1 Axes>"
            ]
          },
          "metadata": {
            "tags": [],
            "needs_background": "light"
          }
        }
      ]
    },
    {
      "cell_type": "code",
      "metadata": {
        "id": "xf5htnHlo1G3"
      },
      "source": [
        ""
      ],
      "execution_count": null,
      "outputs": []
    }
  ]
}